{
 "cells": [
  {
   "cell_type": "markdown",
   "id": "3bfdb950",
   "metadata": {},
   "source": [
    "## Creating CNN Using Transfer Learning "
   ]
  },
  {
   "cell_type": "markdown",
   "id": "ffe01e03",
   "metadata": {},
   "source": [
    "#### Malaria prediction Using Deep Learning  "
   ]
  },
  {
   "cell_type": "code",
   "execution_count": 63,
   "id": "e39993df",
   "metadata": {},
   "outputs": [],
   "source": [
    "from tensorflow.keras.layers import Input,Lambda,Dense,Flatten,Conv2D\n",
    "from tensorflow.keras.models import Model\n",
    "from tensorflow.keras.applications.vgg19 import VGG19\n",
    "from tensorflow.keras.applications.resnet50 import preprocess_input\n",
    "from tensorflow.keras.preprocessing import image\n",
    "from tensorflow.keras.preprocessing.image import ImageDataGenerator,load_img\n",
    "import numpy as np\n",
    "from glob import glob\n",
    "import matplotlib.pyplot as plt"
   ]
  },
  {
   "cell_type": "code",
   "execution_count": 64,
   "id": "dc90c0fd",
   "metadata": {},
   "outputs": [
    {
     "name": "stdout",
     "output_type": "stream",
     "text": [
      "2.11.0\n"
     ]
    }
   ],
   "source": [
    "import tensorflow as tf\n",
    "print(tf.__version__)"
   ]
  },
  {
   "cell_type": "code",
   "execution_count": 65,
   "id": "e8a66e25",
   "metadata": {},
   "outputs": [],
   "source": [
    "## resize all the images to do this\n",
    "IMAGE_SIZE=[224,224]  ## height and width  3-depth\n",
    "train_path=\"C:/Users/truna/OneDrive/Documents/cell_images/train\"\n",
    "valid_path=\"C:/Users/truna/OneDrive/Documents/cell_images/test\""
   ]
  },
  {
   "cell_type": "code",
   "execution_count": 66,
   "id": "67019697",
   "metadata": {},
   "outputs": [],
   "source": [
    "## import the vgg16 library as shown below and preprocessing layer to the\n",
    "## here we will be using imagenet weights\n",
    "vgg19=VGG19(input_shape=IMAGE_SIZE + [3], weights=\"imagenet\",include_top=False)\n"
   ]
  },
  {
   "cell_type": "code",
   "execution_count": 67,
   "id": "632f4a74",
   "metadata": {},
   "outputs": [
    {
     "name": "stdout",
     "output_type": "stream",
     "text": [
      "Model: \"vgg19\"\n",
      "_________________________________________________________________\n",
      " Layer (type)                Output Shape              Param #   \n",
      "=================================================================\n",
      " input_2 (InputLayer)        [(None, 224, 224, 3)]     0         \n",
      "                                                                 \n",
      " block1_conv1 (Conv2D)       (None, 224, 224, 64)      1792      \n",
      "                                                                 \n",
      " block1_conv2 (Conv2D)       (None, 224, 224, 64)      36928     \n",
      "                                                                 \n",
      " block1_pool (MaxPooling2D)  (None, 112, 112, 64)      0         \n",
      "                                                                 \n",
      " block2_conv1 (Conv2D)       (None, 112, 112, 128)     73856     \n",
      "                                                                 \n",
      " block2_conv2 (Conv2D)       (None, 112, 112, 128)     147584    \n",
      "                                                                 \n",
      " block2_pool (MaxPooling2D)  (None, 56, 56, 128)       0         \n",
      "                                                                 \n",
      " block3_conv1 (Conv2D)       (None, 56, 56, 256)       295168    \n",
      "                                                                 \n",
      " block3_conv2 (Conv2D)       (None, 56, 56, 256)       590080    \n",
      "                                                                 \n",
      " block3_conv3 (Conv2D)       (None, 56, 56, 256)       590080    \n",
      "                                                                 \n",
      " block3_conv4 (Conv2D)       (None, 56, 56, 256)       590080    \n",
      "                                                                 \n",
      " block3_pool (MaxPooling2D)  (None, 28, 28, 256)       0         \n",
      "                                                                 \n",
      " block4_conv1 (Conv2D)       (None, 28, 28, 512)       1180160   \n",
      "                                                                 \n",
      " block4_conv2 (Conv2D)       (None, 28, 28, 512)       2359808   \n",
      "                                                                 \n",
      " block4_conv3 (Conv2D)       (None, 28, 28, 512)       2359808   \n",
      "                                                                 \n",
      " block4_conv4 (Conv2D)       (None, 28, 28, 512)       2359808   \n",
      "                                                                 \n",
      " block4_pool (MaxPooling2D)  (None, 14, 14, 512)       0         \n",
      "                                                                 \n",
      " block5_conv1 (Conv2D)       (None, 14, 14, 512)       2359808   \n",
      "                                                                 \n",
      " block5_conv2 (Conv2D)       (None, 14, 14, 512)       2359808   \n",
      "                                                                 \n",
      " block5_conv3 (Conv2D)       (None, 14, 14, 512)       2359808   \n",
      "                                                                 \n",
      " block5_conv4 (Conv2D)       (None, 14, 14, 512)       2359808   \n",
      "                                                                 \n",
      " block5_pool (MaxPooling2D)  (None, 7, 7, 512)         0         \n",
      "                                                                 \n",
      "=================================================================\n",
      "Total params: 20,024,384\n",
      "Trainable params: 20,024,384\n",
      "Non-trainable params: 0\n",
      "_________________________________________________________________\n"
     ]
    }
   ],
   "source": [
    "vgg19.summary()"
   ]
  },
  {
   "cell_type": "code",
   "execution_count": 68,
   "id": "b1aaab48",
   "metadata": {},
   "outputs": [],
   "source": [
    "## don't train existing weight\n",
    "for layer in vgg19.layers:\n",
    "    layer.trainable=False"
   ]
  },
  {
   "cell_type": "code",
   "execution_count": 69,
   "id": "573600a4",
   "metadata": {},
   "outputs": [],
   "source": [
    "### usefull for getting number of output classes\n",
    "folders=glob(\"C:/Users/truna/OneDrive/Documents/cell_images/train/*\")"
   ]
  },
  {
   "cell_type": "code",
   "execution_count": 70,
   "id": "349c3e0f",
   "metadata": {},
   "outputs": [
    {
     "data": {
      "text/plain": [
       "['C:/Users/truna/OneDrive/Documents/cell_images/train\\\\parasitized',\n",
       " 'C:/Users/truna/OneDrive/Documents/cell_images/train\\\\uninfected']"
      ]
     },
     "execution_count": 70,
     "metadata": {},
     "output_type": "execute_result"
    }
   ],
   "source": [
    "folders"
   ]
  },
  {
   "cell_type": "code",
   "execution_count": 71,
   "id": "abec2ce3",
   "metadata": {},
   "outputs": [],
   "source": [
    "## our layers- you can add more if you want\n",
    "x=Flatten()(vgg19.output)"
   ]
  },
  {
   "cell_type": "code",
   "execution_count": 72,
   "id": "91b61ccf",
   "metadata": {},
   "outputs": [],
   "source": [
    "prediction=Dense(len(folders),activation='softmax')(x)\n",
    "## create a model object\n",
    "model=Model(inputs=vgg19.input,outputs=prediction)\n"
   ]
  },
  {
   "cell_type": "code",
   "execution_count": 73,
   "id": "652f9d6a",
   "metadata": {},
   "outputs": [
    {
     "name": "stdout",
     "output_type": "stream",
     "text": [
      "Model: \"model_1\"\n",
      "_________________________________________________________________\n",
      " Layer (type)                Output Shape              Param #   \n",
      "=================================================================\n",
      " input_2 (InputLayer)        [(None, 224, 224, 3)]     0         \n",
      "                                                                 \n",
      " block1_conv1 (Conv2D)       (None, 224, 224, 64)      1792      \n",
      "                                                                 \n",
      " block1_conv2 (Conv2D)       (None, 224, 224, 64)      36928     \n",
      "                                                                 \n",
      " block1_pool (MaxPooling2D)  (None, 112, 112, 64)      0         \n",
      "                                                                 \n",
      " block2_conv1 (Conv2D)       (None, 112, 112, 128)     73856     \n",
      "                                                                 \n",
      " block2_conv2 (Conv2D)       (None, 112, 112, 128)     147584    \n",
      "                                                                 \n",
      " block2_pool (MaxPooling2D)  (None, 56, 56, 128)       0         \n",
      "                                                                 \n",
      " block3_conv1 (Conv2D)       (None, 56, 56, 256)       295168    \n",
      "                                                                 \n",
      " block3_conv2 (Conv2D)       (None, 56, 56, 256)       590080    \n",
      "                                                                 \n",
      " block3_conv3 (Conv2D)       (None, 56, 56, 256)       590080    \n",
      "                                                                 \n",
      " block3_conv4 (Conv2D)       (None, 56, 56, 256)       590080    \n",
      "                                                                 \n",
      " block3_pool (MaxPooling2D)  (None, 28, 28, 256)       0         \n",
      "                                                                 \n",
      " block4_conv1 (Conv2D)       (None, 28, 28, 512)       1180160   \n",
      "                                                                 \n",
      " block4_conv2 (Conv2D)       (None, 28, 28, 512)       2359808   \n",
      "                                                                 \n",
      " block4_conv3 (Conv2D)       (None, 28, 28, 512)       2359808   \n",
      "                                                                 \n",
      " block4_conv4 (Conv2D)       (None, 28, 28, 512)       2359808   \n",
      "                                                                 \n",
      " block4_pool (MaxPooling2D)  (None, 14, 14, 512)       0         \n",
      "                                                                 \n",
      " block5_conv1 (Conv2D)       (None, 14, 14, 512)       2359808   \n",
      "                                                                 \n",
      " block5_conv2 (Conv2D)       (None, 14, 14, 512)       2359808   \n",
      "                                                                 \n",
      " block5_conv3 (Conv2D)       (None, 14, 14, 512)       2359808   \n",
      "                                                                 \n",
      " block5_conv4 (Conv2D)       (None, 14, 14, 512)       2359808   \n",
      "                                                                 \n",
      " block5_pool (MaxPooling2D)  (None, 7, 7, 512)         0         \n",
      "                                                                 \n",
      " flatten_1 (Flatten)         (None, 25088)             0         \n",
      "                                                                 \n",
      " dense_1 (Dense)             (None, 2)                 50178     \n",
      "                                                                 \n",
      "=================================================================\n",
      "Total params: 20,074,562\n",
      "Trainable params: 50,178\n",
      "Non-trainable params: 20,024,384\n",
      "_________________________________________________________________\n"
     ]
    }
   ],
   "source": [
    "model.summary()"
   ]
  },
  {
   "cell_type": "code",
   "execution_count": 74,
   "id": "52b49b6b",
   "metadata": {},
   "outputs": [],
   "source": [
    "## tell the model what cost and optimization method to use\n",
    "model.compile(loss='categorical_crossentropy',optimizer='adam',metrics=['accuracy'])\n"
   ]
  },
  {
   "cell_type": "code",
   "execution_count": 75,
   "id": "9dcd0e48",
   "metadata": {},
   "outputs": [],
   "source": [
    "## use the image data generator to import the images from the dataset\n",
    "from tensorflow.keras.preprocessing.image import ImageDataGenerator\n",
    "train_datagen=ImageDataGenerator(rescale=1./255,shear_range=0.2,zoom_range=0.2,horizontal_flip=True)\n",
    "test_datagen=ImageDataGenerator(rescale=1./255)"
   ]
  },
  {
   "cell_type": "code",
   "execution_count": 76,
   "id": "e530604f",
   "metadata": {},
   "outputs": [
    {
     "name": "stdout",
     "output_type": "stream",
     "text": [
      "Found 400 images belonging to 2 classes.\n"
     ]
    }
   ],
   "source": [
    "## make sure you provided the same target size as initialied for the image\n",
    "training_set = train_datagen.flow_from_directory(\"C:/Users/truna/OneDrive/Documents/cell_images/train\",\n",
    "                                                 target_size = (224, 224),\n",
    "                                                 batch_size = 32,\n",
    "                                                 class_mode = 'categorical')"
   ]
  },
  {
   "cell_type": "code",
   "execution_count": 77,
   "id": "aa26fc63",
   "metadata": {},
   "outputs": [
    {
     "data": {
      "text/plain": [
       "<keras.preprocessing.image.DirectoryIterator at 0x1f8425f4b20>"
      ]
     },
     "execution_count": 77,
     "metadata": {},
     "output_type": "execute_result"
    }
   ],
   "source": [
    "training_set"
   ]
  },
  {
   "cell_type": "code",
   "execution_count": 78,
   "id": "2f21bc39",
   "metadata": {},
   "outputs": [
    {
     "name": "stdout",
     "output_type": "stream",
     "text": [
      "Found 232 images belonging to 2 classes.\n"
     ]
    }
   ],
   "source": [
    "test_set = test_datagen.flow_from_directory(\"C:/Users/truna/OneDrive/Documents/cell_images/test\",\n",
    "                                            target_size = (224, 224),\n",
    "                                            batch_size = 32,\n",
    "                                            class_mode = 'categorical')"
   ]
  },
  {
   "cell_type": "code",
   "execution_count": 79,
   "id": "78241424",
   "metadata": {},
   "outputs": [
    {
     "name": "stderr",
     "output_type": "stream",
     "text": [
      "C:\\Users\\truna\\AppData\\Local\\Temp/ipykernel_196484/2500947124.py:3: UserWarning: `Model.fit_generator` is deprecated and will be removed in a future version. Please use `Model.fit`, which supports generators.\n",
      "  r = model.fit_generator(\n"
     ]
    },
    {
     "name": "stdout",
     "output_type": "stream",
     "text": [
      "Epoch 1/30\n",
      "13/13 [==============================] - 175s 14s/step - loss: 1.4198 - accuracy: 0.5525 - val_loss: 1.3240 - val_accuracy: 0.5043\n",
      "Epoch 2/30\n",
      "13/13 [==============================] - 169s 13s/step - loss: 0.6395 - accuracy: 0.6700 - val_loss: 0.5081 - val_accuracy: 0.7414\n",
      "Epoch 3/30\n",
      "13/13 [==============================] - 169s 13s/step - loss: 0.5195 - accuracy: 0.7500 - val_loss: 0.4168 - val_accuracy: 0.8147\n",
      "Epoch 4/30\n",
      "13/13 [==============================] - 169s 13s/step - loss: 0.4036 - accuracy: 0.8250 - val_loss: 0.4661 - val_accuracy: 0.7672\n",
      "Epoch 5/30\n",
      "13/13 [==============================] - 166s 13s/step - loss: 0.3142 - accuracy: 0.8850 - val_loss: 0.4029 - val_accuracy: 0.8534\n",
      "Epoch 6/30\n",
      "13/13 [==============================] - 162s 13s/step - loss: 0.3481 - accuracy: 0.8325 - val_loss: 0.3572 - val_accuracy: 0.8276\n",
      "Epoch 7/30\n",
      "13/13 [==============================] - 166s 13s/step - loss: 0.2705 - accuracy: 0.8925 - val_loss: 0.3896 - val_accuracy: 0.8233\n",
      "Epoch 8/30\n",
      "13/13 [==============================] - 191s 15s/step - loss: 0.2793 - accuracy: 0.9000 - val_loss: 0.5639 - val_accuracy: 0.7586\n",
      "Epoch 9/30\n",
      "13/13 [==============================] - 200s 16s/step - loss: 0.2640 - accuracy: 0.8875 - val_loss: 0.3925 - val_accuracy: 0.8362\n",
      "Epoch 10/30\n",
      "13/13 [==============================] - 191s 15s/step - loss: 0.2179 - accuracy: 0.9350 - val_loss: 0.4317 - val_accuracy: 0.7931\n",
      "Epoch 11/30\n",
      "13/13 [==============================] - 170s 13s/step - loss: 0.2040 - accuracy: 0.9400 - val_loss: 0.3553 - val_accuracy: 0.8319\n",
      "Epoch 12/30\n",
      "13/13 [==============================] - 161s 13s/step - loss: 0.1711 - accuracy: 0.9575 - val_loss: 0.3479 - val_accuracy: 0.8578\n",
      "Epoch 13/30\n",
      "13/13 [==============================] - 163s 13s/step - loss: 0.2074 - accuracy: 0.9275 - val_loss: 0.3246 - val_accuracy: 0.8707\n",
      "Epoch 14/30\n",
      "13/13 [==============================] - 161s 13s/step - loss: 0.1811 - accuracy: 0.9525 - val_loss: 0.3691 - val_accuracy: 0.8147\n",
      "Epoch 15/30\n",
      "13/13 [==============================] - 161s 13s/step - loss: 0.1673 - accuracy: 0.9550 - val_loss: 0.3293 - val_accuracy: 0.8750\n",
      "Epoch 16/30\n",
      "13/13 [==============================] - 500s 41s/step - loss: 0.1622 - accuracy: 0.9550 - val_loss: 0.3205 - val_accuracy: 0.8707\n",
      "Epoch 17/30\n",
      "13/13 [==============================] - 164s 13s/step - loss: 0.1556 - accuracy: 0.9525 - val_loss: 0.3540 - val_accuracy: 0.8405\n",
      "Epoch 18/30\n",
      "13/13 [==============================] - 155s 12s/step - loss: 0.1453 - accuracy: 0.9675 - val_loss: 0.3288 - val_accuracy: 0.8664\n",
      "Epoch 19/30\n",
      "13/13 [==============================] - 1116s 92s/step - loss: 0.1499 - accuracy: 0.9525 - val_loss: 0.3856 - val_accuracy: 0.8147\n",
      "Epoch 20/30\n",
      "13/13 [==============================] - 158s 13s/step - loss: 0.1469 - accuracy: 0.9425 - val_loss: 0.4300 - val_accuracy: 0.8017\n",
      "Epoch 21/30\n",
      "13/13 [==============================] - 2990s 248s/step - loss: 0.1327 - accuracy: 0.9650 - val_loss: 0.3294 - val_accuracy: 0.8664\n",
      "Epoch 22/30\n",
      "13/13 [==============================] - 163s 13s/step - loss: 0.1277 - accuracy: 0.9675 - val_loss: 0.3705 - val_accuracy: 0.8491\n",
      "Epoch 23/30\n",
      "13/13 [==============================] - 763s 63s/step - loss: 0.1059 - accuracy: 0.9700 - val_loss: 0.3422 - val_accuracy: 0.8448\n",
      "Epoch 24/30\n",
      "13/13 [==============================] - 158s 12s/step - loss: 0.1005 - accuracy: 0.9875 - val_loss: 0.3370 - val_accuracy: 0.8534\n",
      "Epoch 25/30\n",
      "13/13 [==============================] - 166s 13s/step - loss: 0.0995 - accuracy: 0.9725 - val_loss: 0.3244 - val_accuracy: 0.8621\n",
      "Epoch 26/30\n",
      "13/13 [==============================] - 159s 13s/step - loss: 0.1134 - accuracy: 0.9725 - val_loss: 0.3130 - val_accuracy: 0.8836\n",
      "Epoch 27/30\n",
      "13/13 [==============================] - 154s 12s/step - loss: 0.1048 - accuracy: 0.9675 - val_loss: 0.3203 - val_accuracy: 0.8621\n",
      "Epoch 28/30\n",
      "13/13 [==============================] - 155s 12s/step - loss: 0.1003 - accuracy: 0.9650 - val_loss: 0.3150 - val_accuracy: 0.8793\n",
      "Epoch 29/30\n",
      "13/13 [==============================] - 153s 12s/step - loss: 0.1322 - accuracy: 0.9550 - val_loss: 0.4589 - val_accuracy: 0.7888\n",
      "Epoch 30/30\n",
      "13/13 [==============================] - 157s 12s/step - loss: 0.1116 - accuracy: 0.9625 - val_loss: 0.3115 - val_accuracy: 0.8750\n"
     ]
    }
   ],
   "source": [
    "# fit the model\n",
    "# Run the cell. It will take some time to execute\n",
    "r = model.fit_generator(\n",
    "  training_set,\n",
    "  validation_data=test_set,\n",
    "  epochs=30,\n",
    "  steps_per_epoch=len(training_set),\n",
    "  validation_steps=len(test_set)\n",
    ")"
   ]
  },
  {
   "cell_type": "code",
   "execution_count": 80,
   "id": "44caae4d",
   "metadata": {},
   "outputs": [
    {
     "data": {
      "image/png": "[encoded data removed]",
      "text/plain": [
       "<Figure size 432x288 with 1 Axes>"
      ]
     },
     "metadata": {
      "needs_background": "light"
     },
     "output_type": "display_data"
    },
    {
     "data": {
      "image/png": "[encoded data removed]",
      "text/plain": [
       "<Figure size 432x288 with 1 Axes>"
      ]
     },
     "metadata": {
      "needs_background": "light"
     },
     "output_type": "display_data"
    },
    {
     "data": {
      "text/plain": [
       "<Figure size 432x288 with 0 Axes>"
      ]
     },
     "metadata": {},
     "output_type": "display_data"
    }
   ],
   "source": [
    "# plot the loss\n",
    "plt.plot(r.history['loss'], label='train loss')\n",
    "plt.plot(r.history['val_loss'], label='val loss')\n",
    "plt.legend()\n",
    "plt.show()\n",
    "plt.savefig('LossVal_loss')\n",
    "\n",
    "# plot the accuracy\n",
    "plt.plot(r.history['accuracy'], label='train acc')\n",
    "plt.plot(r.history['val_accuracy'], label='val acc')\n",
    "plt.legend()\n",
    "plt.show()\n",
    "plt.savefig('AccVal_acc')"
   ]
  },
  {
   "cell_type": "code",
   "execution_count": 81,
   "id": "8d2bb624",
   "metadata": {},
   "outputs": [],
   "source": [
    "# save it as a h5 file\n",
    "\n",
    "\n",
    "from tensorflow.keras.models import load_model\n",
    "\n",
    "model.save('model_vgg19.h5')"
   ]
  },
  {
   "cell_type": "code",
   "execution_count": 82,
   "id": "82ac7b9d",
   "metadata": {},
   "outputs": [
    {
     "name": "stdout",
     "output_type": "stream",
     "text": [
      "8/8 [==============================] - 56s 7s/step\n"
     ]
    }
   ],
   "source": [
    "y_pred = model.predict(test_set)"
   ]
  },
  {
   "cell_type": "code",
   "execution_count": 83,
   "id": "08535199",
   "metadata": {},
   "outputs": [
    {
     "data": {
      "text/plain": [
       "array([[8.54815066e-01, 1.45184904e-01],\n",
       "       [1.47237584e-01, 8.52762341e-01],\n",
       "       [9.12097096e-01, 8.79029334e-02],\n",
       "       [2.86654066e-02, 9.71334636e-01],\n",
       "       [6.25695944e-01, 3.74304056e-01],\n",
       "       [3.51579897e-02, 9.64842081e-01],\n",
       "       [9.91411686e-01, 8.58824514e-03],\n",
       "       [4.98215333e-02, 9.50178504e-01],\n",
       "       [3.62672269e-01, 6.37327731e-01],\n",
       "       [9.96792853e-01, 3.20713851e-03],\n",
       "       [2.42438428e-02, 9.75756168e-01],\n",
       "       [9.31769609e-01, 6.82303682e-02],\n",
       "       [7.44223595e-02, 9.25577641e-01],\n",
       "       [6.66239262e-01, 3.33760768e-01],\n",
       "       [9.99652743e-01, 3.47206602e-04],\n",
       "       [2.05129273e-02, 9.79487002e-01],\n",
       "       [1.54257312e-01, 8.45742702e-01],\n",
       "       [2.43671656e-01, 7.56328344e-01],\n",
       "       [9.95340824e-01, 4.65918379e-03],\n",
       "       [9.97268081e-01, 2.73192162e-03],\n",
       "       [9.99592960e-01, 4.07009153e-04],\n",
       "       [9.92260993e-01, 7.73900887e-03],\n",
       "       [2.57823970e-02, 9.74217594e-01],\n",
       "       [6.92993224e-01, 3.07006747e-01],\n",
       "       [2.75279265e-02, 9.72472012e-01],\n",
       "       [9.99672532e-01, 3.27455346e-04],\n",
       "       [2.02336740e-02, 9.79766250e-01],\n",
       "       [1.35055613e-02, 9.86494422e-01],\n",
       "       [9.76594865e-01, 2.34051775e-02],\n",
       "       [1.50655136e-01, 8.49344850e-01],\n",
       "       [7.29598897e-03, 9.92704034e-01],\n",
       "       [7.58279264e-01, 2.41720676e-01],\n",
       "       [8.01082194e-01, 1.98917821e-01],\n",
       "       [8.73034894e-02, 9.12696481e-01],\n",
       "       [9.95746553e-01, 4.25341539e-03],\n",
       "       [8.81253481e-01, 1.18746482e-01],\n",
       "       [3.64606641e-02, 9.63539302e-01],\n",
       "       [9.99251187e-01, 7.48753198e-04],\n",
       "       [8.92136633e-01, 1.07863382e-01],\n",
       "       [1.98660679e-02, 9.80133951e-01],\n",
       "       [8.51325020e-02, 9.14867520e-01],\n",
       "       [9.11893129e-01, 8.81068334e-02],\n",
       "       [9.55848098e-02, 9.04415190e-01],\n",
       "       [7.30968118e-02, 9.26903188e-01],\n",
       "       [8.75616074e-01, 1.24383882e-01],\n",
       "       [9.99932766e-01, 6.72053284e-05],\n",
       "       [9.47539210e-01, 5.24608232e-02],\n",
       "       [9.95318711e-01, 4.68128035e-03],\n",
       "       [1.25022307e-01, 8.74977708e-01],\n",
       "       [9.97896433e-01, 2.10354105e-03],\n",
       "       [3.84562165e-01, 6.15437806e-01],\n",
       "       [8.53468999e-02, 9.14653063e-01],\n",
       "       [6.68635428e-01, 3.31364542e-01],\n",
       "       [6.23383708e-02, 9.37661648e-01],\n",
       "       [2.62186289e-01, 7.37813652e-01],\n",
       "       [5.43860756e-02, 9.45613921e-01],\n",
       "       [1.40317082e-01, 8.59682918e-01],\n",
       "       [3.41941379e-02, 9.65805829e-01],\n",
       "       [9.98134196e-01, 1.86586566e-03],\n",
       "       [4.19072993e-02, 9.58092630e-01],\n",
       "       [9.99420166e-01, 5.79808140e-04],\n",
       "       [9.23321843e-01, 7.66782016e-02],\n",
       "       [9.15818065e-02, 9.08418179e-01],\n",
       "       [2.13787891e-02, 9.78621244e-01],\n",
       "       [9.05436277e-01, 9.45637375e-02],\n",
       "       [5.10670207e-02, 9.48932946e-01],\n",
       "       [9.94583428e-01, 5.41661726e-03],\n",
       "       [4.42299336e-01, 5.57700634e-01],\n",
       "       [7.54714534e-02, 9.24528539e-01],\n",
       "       [1.01025298e-01, 8.98974717e-01],\n",
       "       [1.87638223e-01, 8.12361777e-01],\n",
       "       [4.34603840e-01, 5.65396130e-01],\n",
       "       [9.59493935e-01, 4.05061096e-02],\n",
       "       [4.62767668e-02, 9.53723192e-01],\n",
       "       [9.36848447e-02, 9.06315088e-01],\n",
       "       [3.08804601e-01, 6.91195428e-01],\n",
       "       [9.98894036e-01, 1.10600225e-03],\n",
       "       [1.73825338e-01, 8.26174617e-01],\n",
       "       [1.53914154e-01, 8.46085846e-01],\n",
       "       [8.15903023e-03, 9.91840959e-01],\n",
       "       [6.76990598e-02, 9.32300925e-01],\n",
       "       [9.88325357e-01, 1.16746081e-02],\n",
       "       [3.94813642e-02, 9.60518658e-01],\n",
       "       [9.79280770e-01, 2.07192879e-02],\n",
       "       [7.39567220e-01, 2.60432750e-01],\n",
       "       [9.89185870e-01, 1.08140605e-02],\n",
       "       [8.49502906e-02, 9.15049672e-01],\n",
       "       [4.64096516e-01, 5.35903513e-01],\n",
       "       [8.12859297e-01, 1.87140703e-01],\n",
       "       [4.93497819e-01, 5.06502151e-01],\n",
       "       [1.55237406e-01, 8.44762564e-01],\n",
       "       [9.95290518e-01, 4.70951945e-03],\n",
       "       [1.48693398e-01, 8.51306677e-01],\n",
       "       [1.79874152e-01, 8.20125818e-01],\n",
       "       [4.39022928e-02, 9.56097662e-01],\n",
       "       [9.96603727e-01, 3.39623610e-03],\n",
       "       [8.62518668e-01, 1.37481302e-01],\n",
       "       [9.45022643e-01, 5.49773090e-02],\n",
       "       [1.61070719e-01, 8.38929236e-01],\n",
       "       [1.10211875e-02, 9.88978803e-01],\n",
       "       [2.89006941e-02, 9.71099257e-01],\n",
       "       [4.22103882e-01, 5.77896118e-01],\n",
       "       [1.75861239e-01, 8.24138701e-01],\n",
       "       [2.81714201e-01, 7.18285799e-01],\n",
       "       [9.97269094e-01, 2.73087830e-03],\n",
       "       [2.19343588e-01, 7.80656397e-01],\n",
       "       [1.76138923e-01, 8.23861063e-01],\n",
       "       [9.95780706e-01, 4.21928288e-03],\n",
       "       [5.81086986e-02, 9.41891253e-01],\n",
       "       [1.70974955e-01, 8.29025090e-01],\n",
       "       [9.98963714e-01, 1.03629602e-03],\n",
       "       [1.13871032e-02, 9.88612890e-01],\n",
       "       [2.64421791e-01, 7.35578179e-01],\n",
       "       [2.88811494e-02, 9.71118808e-01],\n",
       "       [3.90080333e-01, 6.09919667e-01],\n",
       "       [3.09016407e-01, 6.90983593e-01],\n",
       "       [9.46773350e-01, 5.32266013e-02],\n",
       "       [2.56959684e-02, 9.74304080e-01],\n",
       "       [3.94362479e-01, 6.05637550e-01],\n",
       "       [3.06041390e-01, 6.93958640e-01],\n",
       "       [7.41935551e-01, 2.58064479e-01],\n",
       "       [5.22185378e-02, 9.47781444e-01],\n",
       "       [3.48065645e-01, 6.51934326e-01],\n",
       "       [9.99988556e-01, 1.14463464e-05],\n",
       "       [3.28222699e-02, 9.67177689e-01],\n",
       "       [9.99165416e-01, 8.34547682e-04],\n",
       "       [6.79040968e-01, 3.20959032e-01],\n",
       "       [9.78043079e-01, 2.19569672e-02],\n",
       "       [4.52082232e-02, 9.54791784e-01],\n",
       "       [1.15247957e-01, 8.84751976e-01],\n",
       "       [3.63357849e-02, 9.63664174e-01],\n",
       "       [3.47556695e-02, 9.65244293e-01],\n",
       "       [7.88940609e-01, 2.11059391e-01],\n",
       "       [9.99975324e-01, 2.46969394e-05],\n",
       "       [3.34457234e-02, 9.66554344e-01],\n",
       "       [9.76545155e-01, 2.34548692e-02],\n",
       "       [8.55048373e-02, 9.14495111e-01],\n",
       "       [1.36652350e-01, 8.63347650e-01],\n",
       "       [2.48029262e-01, 7.51970708e-01],\n",
       "       [9.99727309e-01, 2.72633508e-04],\n",
       "       [8.41364503e-01, 1.58635467e-01],\n",
       "       [9.99999762e-01, 1.83350224e-07],\n",
       "       [1.53940246e-01, 8.46059740e-01],\n",
       "       [5.81512861e-02, 9.41848755e-01],\n",
       "       [2.23884117e-02, 9.77611542e-01],\n",
       "       [2.35022921e-02, 9.76497650e-01],\n",
       "       [8.83168459e-01, 1.16831556e-01],\n",
       "       [7.03240693e-01, 2.96759307e-01],\n",
       "       [2.50111371e-01, 7.49888599e-01],\n",
       "       [7.72822738e-01, 2.27177322e-01],\n",
       "       [1.33170664e-01, 8.66829336e-01],\n",
       "       [7.56139576e-01, 2.43860364e-01],\n",
       "       [2.46347785e-01, 7.53652215e-01],\n",
       "       [2.43215505e-02, 9.75678444e-01],\n",
       "       [1.55250266e-01, 8.44749749e-01],\n",
       "       [9.99997735e-01, 2.24745349e-06],\n",
       "       [5.96918404e-01, 4.03081566e-01],\n",
       "       [3.27546418e-01, 6.72453642e-01],\n",
       "       [9.89304423e-01, 1.06955795e-02],\n",
       "       [9.99251306e-01, 7.48702325e-04],\n",
       "       [1.99532621e-02, 9.80046749e-01],\n",
       "       [3.55210662e-01, 6.44789279e-01],\n",
       "       [9.70072746e-01, 2.99273059e-02],\n",
       "       [9.58096027e-01, 4.19039614e-02],\n",
       "       [3.31763960e-02, 9.66823578e-01],\n",
       "       [1.33565739e-01, 8.66434276e-01],\n",
       "       [1.46679386e-01, 8.53320658e-01],\n",
       "       [9.87875402e-01, 1.21245896e-02],\n",
       "       [6.98788822e-01, 3.01211238e-01],\n",
       "       [2.64475979e-02, 9.73552346e-01],\n",
       "       [2.48532072e-01, 7.51467943e-01],\n",
       "       [2.86390428e-02, 9.71360922e-01],\n",
       "       [2.19374206e-02, 9.78062570e-01],\n",
       "       [7.26425052e-02, 9.27357495e-01],\n",
       "       [5.43762207e-01, 4.56237823e-01],\n",
       "       [1.23894244e-01, 8.76105726e-01],\n",
       "       [4.69817072e-02, 9.53018308e-01],\n",
       "       [3.95053811e-02, 9.60494578e-01],\n",
       "       [9.91715968e-01, 8.28406960e-03],\n",
       "       [9.95051444e-01, 4.94856574e-03],\n",
       "       [9.98615503e-01, 1.38453487e-03],\n",
       "       [9.91571426e-01, 8.42852890e-03],\n",
       "       [1.72410116e-01, 8.27589869e-01],\n",
       "       [9.99350846e-01, 6.49098773e-04],\n",
       "       [4.97542582e-02, 9.50245738e-01],\n",
       "       [9.92444336e-01, 7.55561749e-03],\n",
       "       [6.54056072e-01, 3.45943928e-01],\n",
       "       [3.29323143e-01, 6.70676887e-01],\n",
       "       [9.67828780e-02, 9.03217077e-01],\n",
       "       [1.78161204e-01, 8.21838796e-01],\n",
       "       [9.96806026e-01, 3.19396309e-03],\n",
       "       [9.99925017e-01, 7.49249230e-05],\n",
       "       [9.66490984e-01, 3.35090347e-02],\n",
       "       [5.24090111e-01, 4.75909948e-01],\n",
       "       [6.45739064e-02, 9.35426176e-01],\n",
       "       [2.15361826e-02, 9.78463829e-01],\n",
       "       [2.59363472e-01, 7.40636528e-01],\n",
       "       [2.26318851e-01, 7.73681104e-01],\n",
       "       [4.31928039e-02, 9.56807196e-01],\n",
       "       [9.99895453e-01, 1.04529725e-04],\n",
       "       [9.95578349e-01, 4.42159083e-03],\n",
       "       [9.94385242e-01, 5.61473053e-03],\n",
       "       [9.94017363e-01, 5.98263228e-03],\n",
       "       [1.43523723e-01, 8.56476307e-01],\n",
       "       [9.29163992e-02, 9.07083571e-01],\n",
       "       [4.41676676e-01, 5.58323324e-01],\n",
       "       [3.20623294e-02, 9.67937708e-01],\n",
       "       [1.40471131e-01, 8.59528840e-01],\n",
       "       [8.30517616e-03, 9.91694868e-01],\n",
       "       [6.77040741e-02, 9.32295978e-01],\n",
       "       [9.84820426e-01, 1.51795726e-02],\n",
       "       [9.77209985e-01, 2.27900017e-02],\n",
       "       [2.28918403e-01, 7.71081567e-01],\n",
       "       [3.67527634e-01, 6.32472396e-01],\n",
       "       [9.98107791e-01, 1.89216645e-03],\n",
       "       [1.36242449e-01, 8.63757551e-01],\n",
       "       [2.46484905e-01, 7.53515124e-01],\n",
       "       [3.45739760e-02, 9.65426028e-01],\n",
       "       [9.84788895e-01, 1.52111482e-02],\n",
       "       [9.44154501e-01, 5.58454618e-02],\n",
       "       [9.99436319e-01, 5.63647423e-04],\n",
       "       [1.71949029e-01, 8.28050911e-01],\n",
       "       [9.99904752e-01, 9.52922564e-05],\n",
       "       [7.92839676e-02, 9.20716047e-01],\n",
       "       [2.41719589e-01, 7.58280396e-01],\n",
       "       [1.30888866e-02, 9.86911058e-01],\n",
       "       [6.27056241e-01, 3.72943699e-01],\n",
       "       [2.27194093e-02, 9.77280557e-01],\n",
       "       [7.43751526e-02, 9.25624788e-01],\n",
       "       [4.01988328e-01, 5.98011613e-01],\n",
       "       [2.10124068e-02, 9.78987575e-01],\n",
       "       [2.65757114e-01, 7.34242916e-01]], dtype=float32)"
      ]
     },
     "execution_count": 83,
     "metadata": {},
     "output_type": "execute_result"
    }
   ],
   "source": [
    "y_pred"
   ]
  },
  {
   "cell_type": "code",
   "execution_count": 84,
   "id": "0f6d73fd",
   "metadata": {},
   "outputs": [],
   "source": [
    "import numpy as np\n",
    "y_pred = np.argmax(y_pred, axis=1)"
   ]
  },
  {
   "cell_type": "code",
   "execution_count": 85,
   "id": "940aca64",
   "metadata": {},
   "outputs": [
    {
     "data": {
      "text/plain": [
       "array([0, 1, 0, 1, 0, 1, 0, 1, 1, 0, 1, 0, 1, 0, 0, 1, 1, 1, 0, 0, 0, 0,\n",
       "       1, 0, 1, 0, 1, 1, 0, 1, 1, 0, 0, 1, 0, 0, 1, 0, 0, 1, 1, 0, 1, 1,\n",
       "       0, 0, 0, 0, 1, 0, 1, 1, 0, 1, 1, 1, 1, 1, 0, 1, 0, 0, 1, 1, 0, 1,\n",
       "       0, 1, 1, 1, 1, 1, 0, 1, 1, 1, 0, 1, 1, 1, 1, 0, 1, 0, 0, 0, 1, 1,\n",
       "       0, 1, 1, 0, 1, 1, 1, 0, 0, 0, 1, 1, 1, 1, 1, 1, 0, 1, 1, 0, 1, 1,\n",
       "       0, 1, 1, 1, 1, 1, 0, 1, 1, 1, 0, 1, 1, 0, 1, 0, 0, 0, 1, 1, 1, 1,\n",
       "       0, 0, 1, 0, 1, 1, 1, 0, 0, 0, 1, 1, 1, 1, 0, 0, 1, 0, 1, 0, 1, 1,\n",
       "       1, 0, 0, 1, 0, 0, 1, 1, 0, 0, 1, 1, 1, 0, 0, 1, 1, 1, 1, 1, 0, 1,\n",
       "       1, 1, 0, 0, 0, 0, 1, 0, 1, 0, 0, 1, 1, 1, 0, 0, 0, 0, 1, 1, 1, 1,\n",
       "       1, 0, 0, 0, 0, 1, 1, 1, 1, 1, 1, 1, 0, 0, 1, 1, 0, 1, 1, 1, 0, 0,\n",
       "       0, 1, 0, 1, 1, 1, 0, 1, 1, 1, 1, 1], dtype=int64)"
      ]
     },
     "execution_count": 85,
     "metadata": {},
     "output_type": "execute_result"
    }
   ],
   "source": [
    "y_pred"
   ]
  },
  {
   "cell_type": "code",
   "execution_count": 86,
   "id": "b9ac5c47",
   "metadata": {},
   "outputs": [],
   "source": [
    "from tensorflow.keras.models import load_model\n",
    "from tensorflow.keras.preprocessing import image"
   ]
  },
  {
   "cell_type": "code",
   "execution_count": 87,
   "id": "19a778f0",
   "metadata": {},
   "outputs": [],
   "source": [
    "model=load_model('model_vgg19.h5')"
   ]
  },
  {
   "cell_type": "markdown",
   "id": "e7cfb36b",
   "metadata": {},
   "source": [
    "### Make prediction for New data "
   ]
  },
  {
   "cell_type": "code",
   "execution_count": 104,
   "id": "6161ee7a",
   "metadata": {},
   "outputs": [],
   "source": [
    "img=image.load_img(\"C:/Users/truna/OneDrive/Documents/cell_images/test/uninfected/C214ThinF_IMG_20151106_115440_cell_72.png\",target_size=(224,224))"
   ]
  },
  {
   "cell_type": "code",
   "execution_count": 105,
   "id": "adce4ccf",
   "metadata": {},
   "outputs": [
    {
     "data": {
      "text/plain": [
       "array([[[0., 0., 0.],\n",
       "        [0., 0., 0.],\n",
       "        [0., 0., 0.],\n",
       "        ...,\n",
       "        [0., 0., 0.],\n",
       "        [0., 0., 0.],\n",
       "        [0., 0., 0.]],\n",
       "\n",
       "       [[0., 0., 0.],\n",
       "        [0., 0., 0.],\n",
       "        [0., 0., 0.],\n",
       "        ...,\n",
       "        [0., 0., 0.],\n",
       "        [0., 0., 0.],\n",
       "        [0., 0., 0.]],\n",
       "\n",
       "       [[0., 0., 0.],\n",
       "        [0., 0., 0.],\n",
       "        [0., 0., 0.],\n",
       "        ...,\n",
       "        [0., 0., 0.],\n",
       "        [0., 0., 0.],\n",
       "        [0., 0., 0.]],\n",
       "\n",
       "       ...,\n",
       "\n",
       "       [[0., 0., 0.],\n",
       "        [0., 0., 0.],\n",
       "        [0., 0., 0.],\n",
       "        ...,\n",
       "        [0., 0., 0.],\n",
       "        [0., 0., 0.],\n",
       "        [0., 0., 0.]],\n",
       "\n",
       "       [[0., 0., 0.],\n",
       "        [0., 0., 0.],\n",
       "        [0., 0., 0.],\n",
       "        ...,\n",
       "        [0., 0., 0.],\n",
       "        [0., 0., 0.],\n",
       "        [0., 0., 0.]],\n",
       "\n",
       "       [[0., 0., 0.],\n",
       "        [0., 0., 0.],\n",
       "        [0., 0., 0.],\n",
       "        ...,\n",
       "        [0., 0., 0.],\n",
       "        [0., 0., 0.],\n",
       "        [0., 0., 0.]]], dtype=float32)"
      ]
     },
     "execution_count": 105,
     "metadata": {},
     "output_type": "execute_result"
    }
   ],
   "source": [
    "x=image.img_to_array(img)\n",
    "x"
   ]
  },
  {
   "cell_type": "code",
   "execution_count": 106,
   "id": "96ddda4e",
   "metadata": {},
   "outputs": [
    {
     "data": {
      "text/plain": [
       "(224, 224, 3)"
      ]
     },
     "execution_count": 106,
     "metadata": {},
     "output_type": "execute_result"
    }
   ],
   "source": [
    "x.shape"
   ]
  },
  {
   "cell_type": "code",
   "execution_count": 107,
   "id": "111bd5d1",
   "metadata": {},
   "outputs": [],
   "source": [
    "x=x/255"
   ]
  },
  {
   "cell_type": "code",
   "execution_count": 108,
   "id": "b347f841",
   "metadata": {},
   "outputs": [
    {
     "data": {
      "text/plain": [
       "(1, 224, 224, 3)"
      ]
     },
     "execution_count": 108,
     "metadata": {},
     "output_type": "execute_result"
    }
   ],
   "source": [
    "x=np.expand_dims(x,axis=0)\n",
    "img_data=preprocess_input(x)\n",
    "img_data.shape"
   ]
  },
  {
   "cell_type": "code",
   "execution_count": 111,
   "id": "edd4ec20",
   "metadata": {},
   "outputs": [
    {
     "name": "stdout",
     "output_type": "stream",
     "text": [
      "1/1 [==============================] - 0s 212ms/step\n"
     ]
    },
    {
     "data": {
      "text/plain": [
       "array([[8.063953e-05, 9.999193e-01]], dtype=float32)"
      ]
     },
     "execution_count": 111,
     "metadata": {},
     "output_type": "execute_result"
    }
   ],
   "source": [
    "model.predict(img_data)"
   ]
  },
  {
   "cell_type": "code",
   "execution_count": 112,
   "id": "6757a3d5",
   "metadata": {},
   "outputs": [
    {
     "name": "stdout",
     "output_type": "stream",
     "text": [
      "1/1 [==============================] - 0s 204ms/step\n"
     ]
    }
   ],
   "source": [
    "a=np.argmax(model.predict(img_data), axis=1)"
   ]
  },
  {
   "cell_type": "code",
   "execution_count": 113,
   "id": "b917db89",
   "metadata": {},
   "outputs": [
    {
     "name": "stdout",
     "output_type": "stream",
     "text": [
      "Uninfected\n"
     ]
    }
   ],
   "source": [
    "if(a==1):\n",
    "    print(\"Uninfected\")\n",
    "else:\n",
    "    print(\"Infected\")"
   ]
  },
  {
   "cell_type": "code",
   "execution_count": null,
   "id": "6a612dab",
   "metadata": {},
   "outputs": [],
   "source": []
  }
 ],
 "metadata": {
  "kernelspec": {
   "display_name": "Python 3 (ipykernel)",
   "language": "python",
   "name": "python3"
  },
  "language_info": {
   "codemirror_mode": {
    "name": "ipython",
    "version": 3
   },
   "file_extension": ".py",
   "mimetype": "text/x-python",
   "name": "python",
   "nbconvert_exporter": "python",
   "pygments_lexer": "ipython3",
   "version": "3.9.7"
  }
 },
 "nbformat": 4,
 "nbformat_minor": 5
}
